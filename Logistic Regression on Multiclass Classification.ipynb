{
 "cells": [
  {
   "cell_type": "markdown",
   "metadata": {
    "id": "RG4UeXo8jjAu"
   },
   "source": [
    "<h2 style='color:blue' align=\"center\">Logistic Regression on load_digit dataset: Multiclass Classification</h2>"
   ]
  },
  {
   "cell_type": "markdown",
   "metadata": {
    "id": "d41Xn0VTjjBX"
   },
   "source": [
    "## Problem Statement \n",
    "\n",
    "Use sklearn.datasets, load_digits dataset to train the model using logistic regression. Figure out accuracy \n",
    "of your model and use that to predict different samples in your test dataset. "
   ]
  },
  {
   "cell_type": "code",
   "execution_count": 4,
   "metadata": {
    "executionInfo": {
     "elapsed": 2018,
     "status": "ok",
     "timestamp": 1669111806916,
     "user": {
      "displayName": "Kosy Ashara",
      "userId": "08844108681218484423"
     },
     "user_tz": -60
    },
    "id": "qcmTcQC0jjBj"
   },
   "outputs": [],
   "source": [
    "#importing the dataset and libraries\n",
    "\n",
    "from sklearn.datasets import load_digits\n",
    "%matplotlib inline\n",
    "import matplotlib.pyplot as plt\n",
    "digits = load_digits()"
   ]
  },
  {
   "cell_type": "code",
   "execution_count": 5,
   "metadata": {
    "colab": {
     "base_uri": "https://localhost:8080/",
     "height": 1000
    },
    "executionInfo": {
     "elapsed": 1474,
     "status": "ok",
     "timestamp": 1669111808369,
     "user": {
      "displayName": "Kosy Ashara",
      "userId": "08844108681218484423"
     },
     "user_tz": -60
    },
    "id": "t81RdjzojjCN",
    "outputId": "78eee0fc-37e2-4113-e851-ad8402e88d7c"
   },
   "outputs": [
    {
     "data": {
      "text/plain": [
       "<Figure size 432x288 with 0 Axes>"
      ]
     },
     "metadata": {},
     "output_type": "display_data"
    },
    {
     "data": {
      "image/png": "[encoded data removed]",
      "text/plain": [
       "<Figure size 288x288 with 1 Axes>"
      ]
     },
     "metadata": {
      "needs_background": "light"
     },
     "output_type": "display_data"
    },
    {
     "data": {
      "image/png": "[encoded data removed]",
      "text/plain": [
       "<Figure size 288x288 with 1 Axes>"
      ]
     },
     "metadata": {
      "needs_background": "light"
     },
     "output_type": "display_data"
    },
    {
     "data": {
      "image/png": "[encoded data removed]",
      "text/plain": [
       "<Figure size 288x288 with 1 Axes>"
      ]
     },
     "metadata": {
      "needs_background": "light"
     },
     "output_type": "display_data"
    },
    {
     "data": {
      "image/png": "[encoded data removed]",
      "text/plain": [
       "<Figure size 288x288 with 1 Axes>"
      ]
     },
     "metadata": {
      "needs_background": "light"
     },
     "output_type": "display_data"
    },
    {
     "data": {
      "image/png": "[encoded data removed]",
      "text/plain": [
       "<Figure size 288x288 with 1 Axes>"
      ]
     },
     "metadata": {
      "needs_background": "light"
     },
     "output_type": "display_data"
    }
   ],
   "source": [
    "#viewing the image column\n",
    "\n",
    "plt.gray() \n",
    "for i in range(5):\n",
    "    plt.matshow(digits.images[i]) "
   ]
  },
  {
   "cell_type": "markdown",
   "metadata": {},
   "source": [
    "<h4 style='color:purple'>Understanding the dataset</h4>"
   ]
  },
  {
   "cell_type": "code",
   "execution_count": null,
   "metadata": {
    "colab": {
     "base_uri": "https://localhost:8080/"
    },
    "executionInfo": {
     "elapsed": 148,
     "status": "ok",
     "timestamp": 1669111808421,
     "user": {
      "displayName": "Kosy Ashara",
      "userId": "08844108681218484423"
     },
     "user_tz": -60
    },
    "id": "V7YwZQiHjjK8",
    "outputId": "597d9965-0c6d-4696-e1ce-feb7da82b13c"
   },
   "outputs": [],
   "source": [
    "# to return all properties of the dataset\n",
    "\n",
    "dir(digits)"
   ]
  },
  {
   "cell_type": "code",
   "execution_count": 11,
   "metadata": {},
   "outputs": [
    {
     "data": {
      "text/plain": [
       "0    [[0.0, 0.0, 5.0, 13.0, 9.0, 1.0, 0.0, 0.0, 0.0...\n",
       "Name: data, dtype: object"
      ]
     },
     "execution_count": 11,
     "metadata": {},
     "output_type": "execute_result"
    }
   ],
   "source": [
    "import pandas as pd\n",
    "df = pd.DataFrame([digits])\n",
    "df.data"
   ]
  },
  {
   "cell_type": "code",
   "execution_count": 4,
   "metadata": {
    "colab": {
     "base_uri": "https://localhost:8080/"
    },
    "executionInfo": {
     "elapsed": 137,
     "status": "ok",
     "timestamp": 1669111808423,
     "user": {
      "displayName": "Kosy Ashara",
      "userId": "08844108681218484423"
     },
     "user_tz": -60
    },
    "id": "_QXIP2bzjjLn",
    "outputId": "6f78a1ed-d71b-438f-e24a-6c0c15b7cc93"
   },
   "outputs": [
    {
     "data": {
      "text/plain": [
       "array([ 0.,  0.,  1., 13., 14.,  3.,  0.,  0.,  0.,  0.,  8., 16., 13.,\n",
       "        2.,  0.,  0.,  0.,  2., 16., 16.,  3.,  0.,  0.,  0.,  0.,  3.,\n",
       "       16., 12.,  1.,  0.,  0.,  0.,  0.,  5., 16., 14.,  5.,  0.,  0.,\n",
       "        0.,  0.,  3., 16., 16., 16., 16.,  6.,  0.,  0.,  1., 14., 16.,\n",
       "       16., 16., 12.,  0.,  0.,  0.,  3., 12., 15., 14.,  7.,  0.])"
      ]
     },
     "execution_count": 4,
     "metadata": {},
     "output_type": "execute_result"
    }
   ],
   "source": [
    "digits.data[26]"
   ]
  },
  {
   "cell_type": "code",
   "execution_count": 5,
   "metadata": {
    "colab": {
     "base_uri": "https://localhost:8080/",
     "height": 36
    },
    "executionInfo": {
     "elapsed": 132,
     "status": "ok",
     "timestamp": 1669111808426,
     "user": {
      "displayName": "Kosy Ashara",
      "userId": "08844108681218484423"
     },
     "user_tz": -60
    },
    "id": "AjYLPHrRshJk",
    "outputId": "96027006-e869-47ba-b321-2ccf8888d17e"
   },
   "outputs": [
    {
     "data": {
      "application/vnd.google.colaboratory.intrinsic+json": {
       "type": "string"
      },
      "text/plain": [
       "'pixel_3_2'"
      ]
     },
     "execution_count": 5,
     "metadata": {},
     "output_type": "execute_result"
    }
   ],
   "source": [
    "digits.feature_names[26]"
   ]
  },
  {
   "cell_type": "code",
   "execution_count": 6,
   "metadata": {
    "colab": {
     "base_uri": "https://localhost:8080/"
    },
    "executionInfo": {
     "elapsed": 130,
     "status": "ok",
     "timestamp": 1669111808430,
     "user": {
      "displayName": "Kosy Ashara",
      "userId": "08844108681218484423"
     },
     "user_tz": -60
    },
    "id": "0HXmMy7MssJ8",
    "outputId": "f59a93e5-dabf-418a-85b6-a85e3090d43c"
   },
   "outputs": [
    {
     "data": {
      "text/plain": [
       "6"
      ]
     },
     "execution_count": 6,
     "metadata": {},
     "output_type": "execute_result"
    }
   ],
   "source": [
    "digits.target[26]"
   ]
  },
  {
   "cell_type": "code",
   "execution_count": 7,
   "metadata": {
    "colab": {
     "base_uri": "https://localhost:8080/",
     "height": 292
    },
    "executionInfo": {
     "elapsed": 1686,
     "status": "ok",
     "timestamp": 1669111810003,
     "user": {
      "displayName": "Kosy Ashara",
      "userId": "08844108681218484423"
     },
     "user_tz": -60
    },
    "id": "822FWJnovMvR",
    "outputId": "513e2e69-147d-4949-c63e-92ae12af71fd"
   },
   "outputs": [
    {
     "data": {
      "text/plain": [
       "<matplotlib.image.AxesImage at 0x7fb9f13396d0>"
      ]
     },
     "execution_count": 7,
     "metadata": {},
     "output_type": "execute_result"
    },
    {
     "data": {
      "image/png": "[encoded data removed]",
      "text/plain": [
       "<Figure size 288x288 with 1 Axes>"
      ]
     },
     "metadata": {
      "needs_background": "light"
     },
     "output_type": "display_data"
    }
   ],
   "source": [
    "plt.matshow(digits.images[26]) "
   ]
  },
  {
   "cell_type": "markdown",
   "metadata": {
    "id": "kcB8JYsGjjL6"
   },
   "source": [
    "<h4 style='color:purple'>Create and train logistic regression model</h4>"
   ]
  },
  {
   "cell_type": "code",
   "execution_count": 8,
   "metadata": {
    "collapsed": true,
    "executionInfo": {
     "elapsed": 10,
     "status": "ok",
     "timestamp": 1669111819318,
     "user": {
      "displayName": "Kosy Ashara",
      "userId": "08844108681218484423"
     },
     "user_tz": -60
    },
    "id": "KWE5Kf1djjMK"
   },
   "outputs": [],
   "source": [
    "#creating an object for logistic regression\n",
    "\n",
    "from sklearn.linear_model import LogisticRegression\n",
    "model = LogisticRegression()"
   ]
  },
  {
   "cell_type": "code",
   "execution_count": 9,
   "metadata": {
    "collapsed": true,
    "executionInfo": {
     "elapsed": 11,
     "status": "ok",
     "timestamp": 1669111821813,
     "user": {
      "displayName": "Kosy Ashara",
      "userId": "08844108681218484423"
     },
     "user_tz": -60
    },
    "id": "4G8fR7p5jjMn"
   },
   "outputs": [],
   "source": [
    "# importing train_test split\n",
    "\n",
    "from sklearn.model_selection import train_test_split"
   ]
  },
  {
   "cell_type": "code",
   "execution_count": 10,
   "metadata": {
    "collapsed": true,
    "executionInfo": {
     "elapsed": 11,
     "status": "ok",
     "timestamp": 1669111825415,
     "user": {
      "displayName": "Kosy Ashara",
      "userId": "08844108681218484423"
     },
     "user_tz": -60
    },
    "id": "cjoYDlSMjjM1"
   },
   "outputs": [],
   "source": [
    "X_train, X_test, y_train, y_test = train_test_split(digits.data,digits.target, test_size=0.2)"
   ]
  },
  {
   "cell_type": "code",
   "execution_count": 11,
   "metadata": {
    "colab": {
     "base_uri": "https://localhost:8080/"
    },
    "executionInfo": {
     "elapsed": 1465,
     "status": "ok",
     "timestamp": 1669111829221,
     "user": {
      "displayName": "Kosy Ashara",
      "userId": "08844108681218484423"
     },
     "user_tz": -60
    },
    "id": "F5BdXw9IjjM5",
    "outputId": "62c80b2c-bb02-4e9e-9203-20560e69d6f6"
   },
   "outputs": [
    {
     "name": "stderr",
     "output_type": "stream",
     "text": [
      "/usr/local/lib/python3.7/dist-packages/sklearn/linear_model/_logistic.py:818: ConvergenceWarning: lbfgs failed to converge (status=1):\n",
      "STOP: TOTAL NO. of ITERATIONS REACHED LIMIT.\n",
      "\n",
      "Increase the number of iterations (max_iter) or scale the data as shown in:\n",
      "    https://scikit-learn.org/stable/modules/preprocessing.html\n",
      "Please also refer to the documentation for alternative solver options:\n",
      "    https://scikit-learn.org/stable/modules/linear_model.html#logistic-regression\n",
      "  extra_warning_msg=_LOGISTIC_SOLVER_CONVERGENCE_MSG,\n"
     ]
    },
    {
     "data": {
      "text/plain": [
       "LogisticRegression()"
      ]
     },
     "execution_count": 11,
     "metadata": {},
     "output_type": "execute_result"
    }
   ],
   "source": [
    "#training the model\n",
    "\n",
    "model.fit(X_train, y_train)"
   ]
  },
  {
   "cell_type": "markdown",
   "metadata": {
    "id": "SUaiweHtjjM9"
   },
   "source": [
    "<h4 style='color:purple'>Measure accuracy of our model</h4>"
   ]
  },
  {
   "cell_type": "code",
   "execution_count": 12,
   "metadata": {
    "colab": {
     "base_uri": "https://localhost:8080/"
    },
    "executionInfo": {
     "elapsed": 702,
     "status": "ok",
     "timestamp": 1669111940128,
     "user": {
      "displayName": "Kosy Ashara",
      "userId": "08844108681218484423"
     },
     "user_tz": -60
    },
    "id": "3-dVgIfdjjQI",
    "outputId": "16850578-ad41-4d9f-fa0a-31f0c4f47674"
   },
   "outputs": [
    {
     "data": {
      "text/plain": [
       "0.9694444444444444"
      ]
     },
     "execution_count": 12,
     "metadata": {},
     "output_type": "execute_result"
    }
   ],
   "source": [
    "model.score(X_test, y_test)"
   ]
  },
  {
   "cell_type": "code",
   "execution_count": 13,
   "metadata": {
    "colab": {
     "base_uri": "https://localhost:8080/"
    },
    "executionInfo": {
     "elapsed": 1190,
     "status": "ok",
     "timestamp": 1669111982552,
     "user": {
      "displayName": "Kosy Ashara",
      "userId": "08844108681218484423"
     },
     "user_tz": -60
    },
    "id": "95ldqOGMjjRL",
    "outputId": "8f1ae2bb-8ded-4df7-c011-b7d734e1c865"
   },
   "outputs": [
    {
     "data": {
      "text/plain": [
       "array([0, 1, 2, 3, 4])"
      ]
     },
     "execution_count": 13,
     "metadata": {},
     "output_type": "execute_result"
    }
   ],
   "source": [
    "model.predict(digits.data[0:5])"
   ]
  },
  {
   "cell_type": "markdown",
   "metadata": {
    "id": "_aPneQJvjjRV"
   },
   "source": [
    "<h4 style='color:purple'>Confusion Matrix</h4>"
   ]
  },
  {
   "cell_type": "code",
   "execution_count": 14,
   "metadata": {
    "collapsed": true,
    "executionInfo": {
     "elapsed": 1166,
     "status": "ok",
     "timestamp": 1669111990680,
     "user": {
      "displayName": "Kosy Ashara",
      "userId": "08844108681218484423"
     },
     "user_tz": -60
    },
    "id": "Q4IUsSeWjjRa"
   },
   "outputs": [],
   "source": [
    "y_predicted = model.predict(X_test)"
   ]
  },
  {
   "cell_type": "code",
   "execution_count": 15,
   "metadata": {
    "colab": {
     "base_uri": "https://localhost:8080/"
    },
    "executionInfo": {
     "elapsed": 37,
     "status": "ok",
     "timestamp": 1669112015994,
     "user": {
      "displayName": "Kosy Ashara",
      "userId": "08844108681218484423"
     },
     "user_tz": -60
    },
    "id": "4GBiqV2ijjRf",
    "outputId": "a7396e42-ad23-470f-9165-166b0fd13f6e"
   },
   "outputs": [
    {
     "data": {
      "text/plain": [
       "array([[38,  0,  0,  0,  0,  1,  0,  0,  0,  0],\n",
       "       [ 0, 32,  0,  0,  0,  0,  0,  0,  0,  0],\n",
       "       [ 0,  2, 29,  0,  0,  0,  0,  0,  0,  0],\n",
       "       [ 0,  0,  0, 41,  0,  2,  0,  0,  0,  0],\n",
       "       [ 0,  0,  0,  0, 31,  0,  0,  0,  0,  0],\n",
       "       [ 0,  0,  0,  0,  0, 42,  0,  0,  0,  1],\n",
       "       [ 0,  0,  0,  0,  0,  0, 32,  0,  1,  0],\n",
       "       [ 0,  0,  0,  0,  0,  0,  0, 40,  0,  2],\n",
       "       [ 0,  0,  1,  0,  0,  0,  0,  0, 34,  0],\n",
       "       [ 0,  0,  0,  0,  0,  1,  0,  0,  0, 30]])"
      ]
     },
     "execution_count": 15,
     "metadata": {},
     "output_type": "execute_result"
    }
   ],
   "source": [
    "from sklearn.metrics import confusion_matrix\n",
    "cm = confusion_matrix(y_test, y_predicted)\n",
    "cm"
   ]
  },
  {
   "cell_type": "code",
   "execution_count": 16,
   "metadata": {
    "colab": {
     "base_uri": "https://localhost:8080/",
     "height": 459
    },
    "executionInfo": {
     "elapsed": 1414,
     "status": "ok",
     "timestamp": 1669112070981,
     "user": {
      "displayName": "Kosy Ashara",
      "userId": "08844108681218484423"
     },
     "user_tz": -60
    },
    "id": "yy7cFWkEjjRo",
    "outputId": "7eab0cf9-2c54-4193-c773-01ca6fde5ea7"
   },
   "outputs": [
    {
     "data": {
      "text/plain": [
       "Text(69.0, 0.5, 'Truth')"
      ]
     },
     "execution_count": 16,
     "metadata": {},
     "output_type": "execute_result"
    },
    {
     "data": {
      "image/png": "[encoded data removed]",
      "text/plain": [
       "<Figure size 720x504 with 2 Axes>"
      ]
     },
     "metadata": {
      "needs_background": "light"
     },
     "output_type": "display_data"
    }
   ],
   "source": [
    "import seaborn as sn\n",
    "plt.figure(figsize = (10,7))\n",
    "sn.heatmap(cm, annot=True)\n",
    "plt.xlabel('Predicted')\n",
    "plt.ylabel('Truth')"
   ]
  }
 ],
 "metadata": {
  "colab": {
   "provenance": []
  },
  "kernelspec": {
   "display_name": "Python 3 (ipykernel)",
   "language": "python",
   "name": "python3"
  },
  "language_info": {
   "codemirror_mode": {
    "name": "ipython",
    "version": 3
   },
   "file_extension": ".py",
   "mimetype": "text/x-python",
   "name": "python",
   "nbconvert_exporter": "python",
   "pygments_lexer": "ipython3",
   "version": "3.9.12"
  }
 },
 "nbformat": 4,
 "nbformat_minor": 1
}
